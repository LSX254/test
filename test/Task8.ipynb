{
 "cells": [
  {
   "cell_type": "code",
   "execution_count": 1,
   "metadata": {},
   "outputs": [],
   "source": [
    "import pandas as pd\n",
    "import numpy as np\n",
    "import matplotlib.pyplot as plt"
   ]
  },
  {
   "cell_type": "code",
   "execution_count": 6,
   "metadata": {},
   "outputs": [
    {
     "data": {
      "text/html": [
       "<div>\n",
       "<style scoped>\n",
       "    .dataframe tbody tr th:only-of-type {\n",
       "        vertical-align: middle;\n",
       "    }\n",
       "\n",
       "    .dataframe tbody tr th {\n",
       "        vertical-align: top;\n",
       "    }\n",
       "\n",
       "    .dataframe thead th {\n",
       "        text-align: right;\n",
       "    }\n",
       "</style>\n",
       "<table border=\"1\" class=\"dataframe\">\n",
       "  <thead>\n",
       "    <tr style=\"text-align: right;\">\n",
       "      <th></th>\n",
       "      <th>id</th>\n",
       "      <th>time</th>\n",
       "      <th>amonut</th>\n",
       "      <th>volume</th>\n",
       "    </tr>\n",
       "  </thead>\n",
       "  <tbody>\n",
       "    <tr>\n",
       "      <th>0</th>\n",
       "      <td>1</td>\n",
       "      <td>19970101</td>\n",
       "      <td>1</td>\n",
       "      <td>11.77</td>\n",
       "    </tr>\n",
       "    <tr>\n",
       "      <th>1</th>\n",
       "      <td>2</td>\n",
       "      <td>19970112</td>\n",
       "      <td>1</td>\n",
       "      <td>12.00</td>\n",
       "    </tr>\n",
       "    <tr>\n",
       "      <th>2</th>\n",
       "      <td>2</td>\n",
       "      <td>19970112</td>\n",
       "      <td>5</td>\n",
       "      <td>77.00</td>\n",
       "    </tr>\n",
       "    <tr>\n",
       "      <th>3</th>\n",
       "      <td>3</td>\n",
       "      <td>19970102</td>\n",
       "      <td>2</td>\n",
       "      <td>20.76</td>\n",
       "    </tr>\n",
       "    <tr>\n",
       "      <th>4</th>\n",
       "      <td>3</td>\n",
       "      <td>19970330</td>\n",
       "      <td>2</td>\n",
       "      <td>20.76</td>\n",
       "    </tr>\n",
       "  </tbody>\n",
       "</table>\n",
       "</div>"
      ],
      "text/plain": [
       "   id      time  amonut  volume\n",
       "0   1  19970101       1   11.77\n",
       "1   2  19970112       1   12.00\n",
       "2   2  19970112       5   77.00\n",
       "3   3  19970102       2   20.76\n",
       "4   3  19970330       2   20.76"
      ]
     },
     "execution_count": 6,
     "metadata": {},
     "output_type": "execute_result"
    }
   ],
   "source": [
    "cdnow=pd.read_table('CDNOW.txt',names=['id','time','amonut','volume'],sep='\\s+')\n",
    "cdnow.head()"
   ]
  },
  {
   "cell_type": "code",
   "execution_count": 7,
   "metadata": {},
   "outputs": [
    {
     "data": {
      "text/html": [
       "<div>\n",
       "<style scoped>\n",
       "    .dataframe tbody tr th:only-of-type {\n",
       "        vertical-align: middle;\n",
       "    }\n",
       "\n",
       "    .dataframe tbody tr th {\n",
       "        vertical-align: top;\n",
       "    }\n",
       "\n",
       "    .dataframe thead th {\n",
       "        text-align: right;\n",
       "    }\n",
       "</style>\n",
       "<table border=\"1\" class=\"dataframe\">\n",
       "  <thead>\n",
       "    <tr style=\"text-align: right;\">\n",
       "      <th></th>\n",
       "      <th>id</th>\n",
       "      <th>time</th>\n",
       "      <th>amonut</th>\n",
       "      <th>volume</th>\n",
       "    </tr>\n",
       "  </thead>\n",
       "  <tbody>\n",
       "    <tr>\n",
       "      <th>0</th>\n",
       "      <td>1</td>\n",
       "      <td>19970101</td>\n",
       "      <td>1</td>\n",
       "      <td>11.77</td>\n",
       "    </tr>\n",
       "    <tr>\n",
       "      <th>1</th>\n",
       "      <td>2</td>\n",
       "      <td>19970112</td>\n",
       "      <td>1</td>\n",
       "      <td>12.00</td>\n",
       "    </tr>\n",
       "    <tr>\n",
       "      <th>2</th>\n",
       "      <td>2</td>\n",
       "      <td>19970112</td>\n",
       "      <td>5</td>\n",
       "      <td>77.00</td>\n",
       "    </tr>\n",
       "    <tr>\n",
       "      <th>3</th>\n",
       "      <td>3</td>\n",
       "      <td>19970102</td>\n",
       "      <td>2</td>\n",
       "      <td>20.76</td>\n",
       "    </tr>\n",
       "    <tr>\n",
       "      <th>4</th>\n",
       "      <td>3</td>\n",
       "      <td>19970330</td>\n",
       "      <td>2</td>\n",
       "      <td>20.76</td>\n",
       "    </tr>\n",
       "  </tbody>\n",
       "</table>\n",
       "</div>"
      ],
      "text/plain": [
       "   id      time  amonut  volume\n",
       "0   1  19970101       1   11.77\n",
       "1   2  19970112       1   12.00\n",
       "2   2  19970112       5   77.00\n",
       "3   3  19970102       2   20.76\n",
       "4   3  19970330       2   20.76"
      ]
     },
     "execution_count": 7,
     "metadata": {},
     "output_type": "execute_result"
    }
   ],
   "source": [
    "cdnow.to_csv('cdnow.csv')\n",
    "cdnow=pd.read_csv('cdnow.csv')\n",
    "cdnow=cdnow.iloc[:,1:]\n",
    "cdnow.head()"
   ]
  },
  {
   "cell_type": "code",
   "execution_count": 8,
   "metadata": {},
   "outputs": [
    {
     "data": {
      "text/html": [
       "<div>\n",
       "<style scoped>\n",
       "    .dataframe tbody tr th:only-of-type {\n",
       "        vertical-align: middle;\n",
       "    }\n",
       "\n",
       "    .dataframe tbody tr th {\n",
       "        vertical-align: top;\n",
       "    }\n",
       "\n",
       "    .dataframe thead th {\n",
       "        text-align: right;\n",
       "    }\n",
       "</style>\n",
       "<table border=\"1\" class=\"dataframe\">\n",
       "  <thead>\n",
       "    <tr style=\"text-align: right;\">\n",
       "      <th></th>\n",
       "      <th>id</th>\n",
       "      <th>time</th>\n",
       "      <th>amonut</th>\n",
       "      <th>volume</th>\n",
       "    </tr>\n",
       "  </thead>\n",
       "  <tbody>\n",
       "    <tr>\n",
       "      <th>count</th>\n",
       "      <td>69659.000000</td>\n",
       "      <td>6.965900e+04</td>\n",
       "      <td>69659.000000</td>\n",
       "      <td>69659.000000</td>\n",
       "    </tr>\n",
       "    <tr>\n",
       "      <th>mean</th>\n",
       "      <td>11470.854592</td>\n",
       "      <td>1.997228e+07</td>\n",
       "      <td>2.410040</td>\n",
       "      <td>35.893648</td>\n",
       "    </tr>\n",
       "    <tr>\n",
       "      <th>std</th>\n",
       "      <td>6819.904848</td>\n",
       "      <td>3.837735e+03</td>\n",
       "      <td>2.333924</td>\n",
       "      <td>36.281942</td>\n",
       "    </tr>\n",
       "    <tr>\n",
       "      <th>min</th>\n",
       "      <td>1.000000</td>\n",
       "      <td>1.997010e+07</td>\n",
       "      <td>1.000000</td>\n",
       "      <td>0.000000</td>\n",
       "    </tr>\n",
       "    <tr>\n",
       "      <th>25%</th>\n",
       "      <td>5506.000000</td>\n",
       "      <td>1.997022e+07</td>\n",
       "      <td>1.000000</td>\n",
       "      <td>14.490000</td>\n",
       "    </tr>\n",
       "    <tr>\n",
       "      <th>50%</th>\n",
       "      <td>11410.000000</td>\n",
       "      <td>1.997042e+07</td>\n",
       "      <td>2.000000</td>\n",
       "      <td>25.980000</td>\n",
       "    </tr>\n",
       "    <tr>\n",
       "      <th>75%</th>\n",
       "      <td>17273.000000</td>\n",
       "      <td>1.997111e+07</td>\n",
       "      <td>3.000000</td>\n",
       "      <td>43.700000</td>\n",
       "    </tr>\n",
       "    <tr>\n",
       "      <th>max</th>\n",
       "      <td>23570.000000</td>\n",
       "      <td>1.998063e+07</td>\n",
       "      <td>99.000000</td>\n",
       "      <td>1286.010000</td>\n",
       "    </tr>\n",
       "  </tbody>\n",
       "</table>\n",
       "</div>"
      ],
      "text/plain": [
       "                 id          time        amonut        volume\n",
       "count  69659.000000  6.965900e+04  69659.000000  69659.000000\n",
       "mean   11470.854592  1.997228e+07      2.410040     35.893648\n",
       "std     6819.904848  3.837735e+03      2.333924     36.281942\n",
       "min        1.000000  1.997010e+07      1.000000      0.000000\n",
       "25%     5506.000000  1.997022e+07      1.000000     14.490000\n",
       "50%    11410.000000  1.997042e+07      2.000000     25.980000\n",
       "75%    17273.000000  1.997111e+07      3.000000     43.700000\n",
       "max    23570.000000  1.998063e+07     99.000000   1286.010000"
      ]
     },
     "execution_count": 8,
     "metadata": {},
     "output_type": "execute_result"
    }
   ],
   "source": [
    "cdnow.describe()"
   ]
  },
  {
   "cell_type": "markdown",
   "metadata": {},
   "source": [
    "### 购买金额分析"
   ]
  },
  {
   "cell_type": "code",
   "execution_count": 33,
   "metadata": {},
   "outputs": [
    {
     "data": {
      "text/plain": [
       "4918"
      ]
     },
     "execution_count": 33,
     "metadata": {},
     "output_type": "execute_result"
    }
   ],
   "source": [
    "# 缺失值个数\n",
    "sum(cdnow['volume'].isnull())"
   ]
  },
  {
   "cell_type": "code",
   "execution_count": 37,
   "metadata": {},
   "outputs": [
    {
     "data": {
      "text/plain": [
       "10.0"
      ]
     },
     "execution_count": 37,
     "metadata": {},
     "output_type": "execute_result"
    }
   ],
   "source": [
    "# 最小交易额\n",
    "min(cdnow['volume'])"
   ]
  },
  {
   "cell_type": "code",
   "execution_count": 38,
   "metadata": {},
   "outputs": [
    {
     "data": {
      "text/plain": [
       "498.48"
      ]
     },
     "execution_count": 38,
     "metadata": {},
     "output_type": "execute_result"
    }
   ],
   "source": [
    "# 最大交易额\n",
    "max(cdnow['volume'])"
   ]
  },
  {
   "cell_type": "code",
   "execution_count": 40,
   "metadata": {},
   "outputs": [
    {
     "data": {
      "text/plain": [
       "34.70690041859116"
      ]
     },
     "execution_count": 40,
     "metadata": {},
     "output_type": "execute_result"
    }
   ],
   "source": [
    "# 平均交易额\n",
    "np.mean(cdnow['volume'])"
   ]
  },
  {
   "cell_type": "code",
   "execution_count": 80,
   "metadata": {},
   "outputs": [
    {
     "data": {
      "text/plain": [
       "(array([5.6538e+04, 1.0999e+04, 1.8330e+03, 2.0300e+02, 5.1000e+01,\n",
       "        2.0000e+01, 9.0000e+00, 3.0000e+00, 1.0000e+00, 2.0000e+00]),\n",
       " array([  0.   ,  49.848,  99.696, 149.544, 199.392, 249.24 , 299.088,\n",
       "        348.936, 398.784, 448.632, 498.48 ]),\n",
       " <a list of 10 Patch objects>)"
      ]
     },
     "execution_count": 80,
     "metadata": {},
     "output_type": "execute_result"
    },
    {
     "data": {
      "image/png": "[encoded data removed]",
      "text/plain": [
       "<Figure size 432x288 with 1 Axes>"
      ]
     },
     "metadata": {},
     "output_type": "display_data"
    }
   ],
   "source": [
    "# 交易额大部分集中在100以下\n",
    "plt.hist(cdnow['volume'].fillna(0))"
   ]
  },
  {
   "cell_type": "markdown",
   "metadata": {},
   "source": [
    "### 交易量"
   ]
  },
  {
   "cell_type": "code",
   "execution_count": 68,
   "metadata": {},
   "outputs": [
    {
     "data": {
      "text/plain": [
       "3"
      ]
     },
     "execution_count": 68,
     "metadata": {},
     "output_type": "execute_result"
    }
   ],
   "source": [
    "# 缺失值个数\n",
    "sum(cdnow['amonut'].isnull())"
   ]
  },
  {
   "cell_type": "code",
   "execution_count": 69,
   "metadata": {},
   "outputs": [
    {
     "data": {
      "text/plain": [
       "1.0"
      ]
     },
     "execution_count": 69,
     "metadata": {},
     "output_type": "execute_result"
    }
   ],
   "source": [
    "# 最小交易量\n",
    "min(cdnow['amonut'])"
   ]
  },
  {
   "cell_type": "code",
   "execution_count": 70,
   "metadata": {},
   "outputs": [
    {
     "data": {
      "text/plain": [
       "932.23"
      ]
     },
     "execution_count": 70,
     "metadata": {},
     "output_type": "execute_result"
    }
   ],
   "source": [
    "# 最小交易量\n",
    "max(cdnow['amonut'])"
   ]
  },
  {
   "cell_type": "code",
   "execution_count": 81,
   "metadata": {},
   "outputs": [
    {
     "data": {
      "text/plain": [
       "(array([6.8569e+04, 6.2600e+02, 3.3200e+02, 8.3000e+01, 2.7000e+01,\n",
       "        1.1000e+01, 5.0000e+00, 1.0000e+00, 3.0000e+00, 2.0000e+00]),\n",
       " array([ -1.   ,  92.323, 185.646, 278.969, 372.292, 465.615, 558.938,\n",
       "        652.261, 745.584, 838.907, 932.23 ]),\n",
       " <a list of 10 Patch objects>)"
      ]
     },
     "execution_count": 81,
     "metadata": {},
     "output_type": "execute_result"
    },
    {
     "data": {
      "image/png": "[encoded data removed]",
      "text/plain": [
       "<Figure size 432x288 with 1 Axes>"
      ]
     },
     "metadata": {},
     "output_type": "display_data"
    }
   ],
   "source": [
    "# 交易量大都集中在100以下\n",
    "plt.hist(cdnow['amonut'].fillna(-1))"
   ]
  },
  {
   "cell_type": "markdown",
   "metadata": {},
   "source": [
    "### 计算每笔平均交易额"
   ]
  },
  {
   "cell_type": "code",
   "execution_count": 85,
   "metadata": {},
   "outputs": [],
   "source": [
    "# 计算平均交易额\n",
    "cdnow['mean_volume']=cdnow['volume']/cdnow['amonut']"
   ]
  },
  {
   "cell_type": "code",
   "execution_count": 84,
   "metadata": {},
   "outputs": [
    {
     "data": {
      "text/plain": [
       "(array([6.6995e+04, 2.2780e+03, 2.6400e+02, 6.5000e+01, 2.7000e+01,\n",
       "        1.4000e+01, 3.0000e+00, 5.0000e+00, 4.0000e+00, 4.0000e+00]),\n",
       " array([ -1.   ,  29.699,  60.398,  91.097, 121.796, 152.495, 183.194,\n",
       "        213.893, 244.592, 275.291, 305.99 ]),\n",
       " <a list of 10 Patch objects>)"
      ]
     },
     "execution_count": 84,
     "metadata": {},
     "output_type": "execute_result"
    },
    {
     "data": {
      "image/png": "[encoded data removed]",
      "text/plain": [
       "<Figure size 432x288 with 1 Axes>"
      ]
     },
     "metadata": {},
     "output_type": "display_data"
    }
   ],
   "source": [
    "# 每笔平均交易额大都集中在50以下\n",
    "plt.hist(cdnow['mean_volume'].fillna(-1))"
   ]
  },
  {
   "cell_type": "markdown",
   "metadata": {},
   "source": [
    "### 用户累积购买分析"
   ]
  },
  {
   "cell_type": "code",
   "execution_count": 9,
   "metadata": {},
   "outputs": [
    {
     "data": {
      "text/plain": [
       "id\n",
       "1         1\n",
       "2         6\n",
       "3        16\n",
       "4         7\n",
       "5        29\n",
       "6         1\n",
       "7        18\n",
       "8        18\n",
       "9         6\n",
       "10        3\n",
       "11        4\n",
       "12        4\n",
       "13        4\n",
       "14        2\n",
       "15        4\n",
       "16        8\n",
       "17        5\n",
       "18        1\n",
       "19       11\n",
       "20       46\n",
       "21        4\n",
       "22        1\n",
       "23        2\n",
       "24        4\n",
       "25       12\n",
       "26        6\n",
       "27       10\n",
       "28        7\n",
       "29       28\n",
       "30        2\n",
       "         ..\n",
       "23541     2\n",
       "23542     5\n",
       "23543     2\n",
       "23544    12\n",
       "23545     1\n",
       "23546     1\n",
       "23547     2\n",
       "23548     2\n",
       "23549     2\n",
       "23550     2\n",
       "23551    12\n",
       "23552     4\n",
       "23553     8\n",
       "23554     3\n",
       "23555    14\n",
       "23556    15\n",
       "23557     1\n",
       "23558    11\n",
       "23559     8\n",
       "23560     1\n",
       "23561     6\n",
       "23562     2\n",
       "23563     3\n",
       "23564     5\n",
       "23565     1\n",
       "23566     2\n",
       "23567     1\n",
       "23568     6\n",
       "23569     2\n",
       "23570     5\n",
       "Name: amonut, Length: 23570, dtype: int64"
      ]
     },
     "execution_count": 9,
     "metadata": {},
     "output_type": "execute_result"
    }
   ],
   "source": [
    "# 用户累积购买量\n",
    "cdnow.groupby('id')['amonut'].sum()"
   ]
  },
  {
   "cell_type": "code",
   "execution_count": 10,
   "metadata": {},
   "outputs": [
    {
     "data": {
      "text/plain": [
       "id\n",
       "1         1\n",
       "2         5\n",
       "3         5\n",
       "4         2\n",
       "5         4\n",
       "6         1\n",
       "7         9\n",
       "8         7\n",
       "9         2\n",
       "10        3\n",
       "11        1\n",
       "12        4\n",
       "13        4\n",
       "14        2\n",
       "15        4\n",
       "16        4\n",
       "17        5\n",
       "18        1\n",
       "19       10\n",
       "20       27\n",
       "21        3\n",
       "22        1\n",
       "23        2\n",
       "24        3\n",
       "25        3\n",
       "26        3\n",
       "27        6\n",
       "28        3\n",
       "29        4\n",
       "30        1\n",
       "         ..\n",
       "23541     1\n",
       "23542     5\n",
       "23543     2\n",
       "23544     5\n",
       "23545     1\n",
       "23546     1\n",
       "23547     1\n",
       "23548     2\n",
       "23549     2\n",
       "23550     2\n",
       "23551     4\n",
       "23552     2\n",
       "23553     4\n",
       "23554     2\n",
       "23555     4\n",
       "23556     3\n",
       "23557     1\n",
       "23558     4\n",
       "23559     3\n",
       "23560     1\n",
       "23561     3\n",
       "23562     2\n",
       "23563     2\n",
       "23564     3\n",
       "23565     1\n",
       "23566     2\n",
       "23567     1\n",
       "23568     4\n",
       "23569     2\n",
       "23570     3\n",
       "Name: amonut, Length: 23570, dtype: int64"
      ]
     },
     "execution_count": 10,
     "metadata": {},
     "output_type": "execute_result"
    }
   ],
   "source": [
    "# 用户购买量最大订单号\n",
    "cdnow.groupby('id')['amonut'].max()"
   ]
  },
  {
   "cell_type": "code",
   "execution_count": 11,
   "metadata": {},
   "outputs": [
    {
     "data": {
      "text/plain": [
       "id\n",
       "1         11.77\n",
       "2         89.00\n",
       "3        156.46\n",
       "4        100.50\n",
       "5        385.61\n",
       "6         20.99\n",
       "7        264.67\n",
       "8        197.66\n",
       "9         95.85\n",
       "10        39.31\n",
       "11        58.55\n",
       "12        57.06\n",
       "13        72.94\n",
       "14        29.92\n",
       "15        52.87\n",
       "16        79.87\n",
       "17        73.22\n",
       "18        14.96\n",
       "19       175.12\n",
       "20       653.01\n",
       "21        75.11\n",
       "22        14.37\n",
       "23        24.74\n",
       "24        57.77\n",
       "25       137.53\n",
       "26       102.69\n",
       "27       135.87\n",
       "28        90.99\n",
       "29       435.81\n",
       "30        28.34\n",
       "          ...  \n",
       "23541     57.34\n",
       "23542     77.43\n",
       "23543     50.76\n",
       "23544    134.63\n",
       "23545     24.99\n",
       "23546     13.97\n",
       "23547     23.54\n",
       "23548     23.54\n",
       "23549     27.13\n",
       "23550     25.28\n",
       "23551    264.63\n",
       "23552     49.38\n",
       "23553     98.58\n",
       "23554     36.37\n",
       "23555    189.18\n",
       "23556    203.00\n",
       "23557     14.37\n",
       "23558    145.60\n",
       "23559    111.65\n",
       "23560     18.36\n",
       "23561     83.46\n",
       "23562     29.33\n",
       "23563     58.75\n",
       "23564     70.01\n",
       "23565     11.77\n",
       "23566     36.00\n",
       "23567     20.97\n",
       "23568    121.70\n",
       "23569     25.74\n",
       "23570     94.08\n",
       "Name: volume, Length: 23570, dtype: float64"
      ]
     },
     "execution_count": 11,
     "metadata": {},
     "output_type": "execute_result"
    }
   ],
   "source": [
    "# 用户累积购买总金额\n",
    "cdnow.groupby('id')['volume'].sum()"
   ]
  },
  {
   "cell_type": "code",
   "execution_count": 12,
   "metadata": {},
   "outputs": [
    {
     "data": {
      "text/plain": [
       "id\n",
       "1         1\n",
       "2         5\n",
       "3         5\n",
       "4         2\n",
       "5         4\n",
       "6         1\n",
       "7         9\n",
       "8         7\n",
       "9         2\n",
       "10        3\n",
       "11        1\n",
       "12        4\n",
       "13        4\n",
       "14        2\n",
       "15        4\n",
       "16        4\n",
       "17        5\n",
       "18        1\n",
       "19       10\n",
       "20       27\n",
       "21        3\n",
       "22        1\n",
       "23        2\n",
       "24        3\n",
       "25        3\n",
       "26        3\n",
       "27        6\n",
       "28        3\n",
       "29        4\n",
       "30        1\n",
       "         ..\n",
       "23541     1\n",
       "23542     5\n",
       "23543     2\n",
       "23544     5\n",
       "23545     1\n",
       "23546     1\n",
       "23547     1\n",
       "23548     2\n",
       "23549     2\n",
       "23550     2\n",
       "23551     4\n",
       "23552     2\n",
       "23553     4\n",
       "23554     2\n",
       "23555     4\n",
       "23556     3\n",
       "23557     1\n",
       "23558     4\n",
       "23559     3\n",
       "23560     1\n",
       "23561     3\n",
       "23562     2\n",
       "23563     2\n",
       "23564     3\n",
       "23565     1\n",
       "23566     2\n",
       "23567     1\n",
       "23568     4\n",
       "23569     2\n",
       "23570     3\n",
       "Name: amonut, Length: 23570, dtype: int64"
      ]
     },
     "execution_count": 12,
     "metadata": {},
     "output_type": "execute_result"
    }
   ],
   "source": [
    "# 用户单笔购买最大金额\n",
    "cdnow.groupby('id')['amonut'].max()"
   ]
  },
  {
   "cell_type": "code",
   "execution_count": 14,
   "metadata": {},
   "outputs": [
    {
     "data": {
      "text/plain": [
       "id\n",
       "1         1\n",
       "2         2\n",
       "3         6\n",
       "4         4\n",
       "5        11\n",
       "6         1\n",
       "7         3\n",
       "8         8\n",
       "9         3\n",
       "10        1\n",
       "11        4\n",
       "12        1\n",
       "13        1\n",
       "14        1\n",
       "15        1\n",
       "16        4\n",
       "17        1\n",
       "18        1\n",
       "19        2\n",
       "20        2\n",
       "21        2\n",
       "22        1\n",
       "23        1\n",
       "24        2\n",
       "25        8\n",
       "26        2\n",
       "27        2\n",
       "28        3\n",
       "29       12\n",
       "30        2\n",
       "         ..\n",
       "23541     2\n",
       "23542     1\n",
       "23543     1\n",
       "23544     3\n",
       "23545     1\n",
       "23546     1\n",
       "23547     2\n",
       "23548     1\n",
       "23549     1\n",
       "23550     1\n",
       "23551     6\n",
       "23552     2\n",
       "23553     2\n",
       "23554     2\n",
       "23555     5\n",
       "23556     7\n",
       "23557     1\n",
       "23558     4\n",
       "23559     3\n",
       "23560     1\n",
       "23561     3\n",
       "23562     1\n",
       "23563     2\n",
       "23564     3\n",
       "23565     1\n",
       "23566     1\n",
       "23567     1\n",
       "23568     3\n",
       "23569     1\n",
       "23570     2\n",
       "Name: time, Length: 23570, dtype: int64"
      ]
     },
     "execution_count": 14,
     "metadata": {},
     "output_type": "execute_result"
    }
   ],
   "source": [
    "# 用户购买笔数\n",
    "cdnow.groupby('id').count()['time']"
   ]
  },
  {
   "cell_type": "code",
   "execution_count": null,
   "metadata": {},
   "outputs": [],
   "source": []
  }
 ],
 "metadata": {
  "kernelspec": {
   "display_name": "Python 3",
   "language": "python",
   "name": "python3"
  },
  "language_info": {
   "codemirror_mode": {
    "name": "ipython",
    "version": 3
   },
   "file_extension": ".py",
   "mimetype": "text/x-python",
   "name": "python",
   "nbconvert_exporter": "python",
   "pygments_lexer": "ipython3",
   "version": "3.6.5"
  }
 },
 "nbformat": 4,
 "nbformat_minor": 2
}
